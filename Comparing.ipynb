{
 "cells": [
  {
   "cell_type": "code",
   "execution_count": null,
   "metadata": {},
   "outputs": [],
   "source": [
    "import pandas as pd \n",
    "import matplotlib.pyplot as plt \n",
    "# * Male Section\n",
    "data = pd.read_excel(\"C:\\\\users\\\\HP\\\\Documents\\\\Datascience task\\\\Employee.xlsx\")\n",
    "m_name = list(data[data['Gender'] == 'Male'][:5]['First Name'])\n",
    "m_salary = list(data[data['Gender'] == 'Male'][:5]['Salary'])\n",
    "plt.bar(m_name,m_salary)\n",
    "\n",
    "plt.title('Male Data')\n",
    "plt.ylabel('Salary')\n",
    "plt.xlabel('Name')\n",
    "\n",
    "# * Find highest and the lowest salary\n",
    "m_max_salary = data[data['Gender'] == 'Male']['Salary'].max()\n",
    "m_min_salary = data[data['Gender'] == 'Male']['Salary'].min()\n",
    "print(m_max_salary,m_min_salary)\n",
    "\n",
    "# * Average Salary\n",
    "m_get_salary = data[data['Gender'] == 'Male']['Salary']\n",
    "m_average_salary = sum(m_get_salary) / len(m_get_salary)\n",
    "print(m_average_salary)"
   ]
  },
  {
   "cell_type": "code",
   "execution_count": null,
   "metadata": {},
   "outputs": [],
   "source": [
    "import pandas as pd\n",
    "import matplotlib.pyplot as plt \n",
    "# * Female Section\n",
    "data = pd.read_excel(\"C:\\\\users\\\\HP\\\\Documents\\\\Datascience task\\\\Employee.xlsx\")\n",
    "f_name = list(data[data['Gender'] == 'Female'][:5]['First Name'])\n",
    "f_salary = list(data[data['Gender'] == 'Female'][:5]['Salary'])\n",
    "plt.bar(f_name,f_salary, color = ['r'])\n",
    "\n",
    "plt.title('Female Data')\n",
    "plt.ylabel('Salary')\n",
    "plt.xlabel('Name')\n",
    "\n",
    "# * Find highest salary and the lowest\n",
    "f_max_salary = data[data['Gender'] == 'Female']['Salary'].max()\n",
    "f_min_salary = data[data['Gender'] == 'Female']['Salary'].min()\n",
    "print(f_max_salary,f_min_salary)\n",
    "\n",
    "# * Average Salary\n",
    "f_get_salary = data[data['Gender'] == 'Female']['Salary']\n",
    "f_avg_salary = sum(f_get_salary) / len(f_get_salary) \n",
    "print(f_avg_salary)"
   ]
  }
 ],
 "metadata": {
  "language_info": {
   "name": "python"
  },
  "orig_nbformat": 4
 },
 "nbformat": 4,
 "nbformat_minor": 2
}
